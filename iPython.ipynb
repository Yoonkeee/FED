{
 "cells": [
  {
   "cell_type": "code",
   "execution_count": 78,
   "metadata": {
    "collapsed": true
   },
   "outputs": [],
   "source": [
    "import requests\n",
    "from bs4 import BeautifulSoup\n",
    "import json"
   ]
  },
  {
   "cell_type": "code",
   "execution_count": 2,
   "metadata": {},
   "outputs": [],
   "source": [
    "url = 'https://www.wanted.co.kr/wd/86252'\n",
    "test = requests.get(url)"
   ]
  },
  {
   "cell_type": "code",
   "execution_count": 37,
   "metadata": {},
   "outputs": [],
   "source": [
    "ps = BeautifulSoup(test.content, 'html.parser', from_encoding='utf-8')"
   ]
  },
  {
   "cell_type": "code",
   "execution_count": 68,
   "metadata": {},
   "outputs": [],
   "source": [
    "content_1 = ps.find('script', type='application/ld+json')\n",
    "content_2 = ps.find('script', type='application/json')"
   ]
  },
  {
   "cell_type": "code",
   "execution_count": null,
   "metadata": {
    "pycharm": {
     "is_executing": true
    }
   },
   "outputs": [],
   "source": [
    "content_1"
   ]
  },
  {
   "cell_type": "code",
   "execution_count": 79,
   "metadata": {},
   "outputs": [],
   "source": [
    "content_2_json = json.loads(content_2.contents[0])"
   ]
  },
  {
   "cell_type": "code",
   "execution_count": 81,
   "outputs": [
    {
     "data": {
      "text/plain": "dict_keys(['props', 'page', 'query', 'buildId', 'assetPrefix', 'isFallback', 'gssp', 'customServer', 'appGip', 'scriptLoader'])"
     },
     "execution_count": 81,
     "metadata": {},
     "output_type": "execute_result"
    }
   ],
   "source": [
    "content_2_json.keys()"
   ],
   "metadata": {
    "collapsed": false
   }
  },
  {
   "cell_type": "code",
   "execution_count": 89,
   "outputs": [
    {
     "data": {
      "text/plain": "dict_keys(['pageProps', 'serverState', '__N_SSP'])"
     },
     "execution_count": 89,
     "metadata": {},
     "output_type": "execute_result"
    }
   ],
   "source": [
    "content_2_json['props'].keys()"
   ],
   "metadata": {
    "collapsed": false
   }
  },
  {
   "cell_type": "code",
   "execution_count": 103,
   "outputs": [
    {
     "data": {
      "text/plain": "dict_keys(['86252'])"
     },
     "execution_count": 103,
     "metadata": {},
     "output_type": "execute_result"
    }
   ],
   "source": [
    "content_2_json['props']['pageProps']['head'].keys()"
   ],
   "metadata": {
    "collapsed": false
   }
  },
  {
   "cell_type": "code",
   "execution_count": null,
   "outputs": [],
   "source": [
    "content_2_json['props']['pageProps']['head']['86252']"
   ],
   "metadata": {
    "collapsed": false,
    "pycharm": {
     "is_executing": true
    }
   }
  },
  {
   "cell_type": "code",
   "execution_count": 105,
   "outputs": [
    {
     "name": "stdout",
     "output_type": "stream",
     "text": [
      "패스트뷰는 “팀원들은 물론 콘텐츠 및 커머스 파트너사들의 ‘상생’을 추구하는 모델”을 미션으로앞세워 빠르고 건강하게 성장하고 있습니다. \n",
      "패스트뷰는 콘텐츠 커머스 전문 스타트업으로, 차별화된 소프트 콘텐츠 제작과 유통 역량을 기반으로 다양한 콘텐츠 커머스 서비스 및 온라인 마케팅 서비스를 운영하고 있습니다. 2021년 상반기 누적 15,000개가 넘는 자체제작 콘텐츠와 30여개의 자사 채널, 15개의 커머스몰, 450여개의 파트너사를 보유하고 있으며, 국내 최정상급 트래픽 점유율과 공격적인 사업확장 및 파트너쉽을 바탕으로 매년 평균 400%에 이르는 매출 성장을 거듭하고 있습니다. 독보적인 콘텐츠 경쟁력과 자사 통합 커머스 솔루션을 통해 국내 콘텐츠 비즈니스의 선도 업체로 도약하는 것을 기업 목표로 삼고 있습니다.\n",
      "＜패스트뷰에서는 이렇게 일하고 있습니다!＞\n",
      "첫 번째, 패스트뷰에서는 ‘Give It All & Reward Now’ 정책을 중요시 합니다. 빠르고 다이나믹하게 성장하는 만큼 업무성과에 대한 보상은 역시 빠르고 다양하게 이뤄집니다. 결코 먼 훗날을 기약하는 비전식 리워드가 아니고 월별, 분기별은 물론 개인별, 팀별 보상이 파격적으로 진행되고 있습니다. 코로나 팬데믹 이전에는 반기마다 해외여행을 보내드렸습니다.\n",
      "두 번째, 패스트뷰에서는 크리에이티브한 콘텐츠와 다이나믹한 커머스 서비스에 모두가 집중할 수 있도록 투명한 정보 공유와 유연한 조직문화를 통해 불필요한 커뮤니케이션을 줄였습니다. 또한, 업계 최고 수준의 복지와 혜택을 제공하고 있으며, 팀원들의 성장을 위한 직무, 어학 등 다양한 교육 제도에 무상으로 적극 지원하고 있습니다. \n",
      "\n",
      "세 번째, 패스트뷰에서는 눈치보지 않고 자신의 역량을 발휘할 수 있도록 나이·경험보다는 능력 위주로 평가 및 채용하고 있습니다. 또 본인의 능력뿐 아니라 주변 사람들을 이끌어 가며 함께 성장하는 팀원들에게 파격적인 기회를 주고 있습니다. 덕분에 20대 초중반의 나이에 벌써 리더급 자리까지 오른 팀원들도 있습니다.\n",
      "\n",
      "패스트뷰와 함께 ‘Next Leap’를 뛰어넘을 동료를 찾습니다!\n",
      "저희와 함께 도전하세요!\n",
      "\n",
      "주요업무\n",
      "- AWS 클라우드 환경에서의 커머스 플랫폼 개발 운영\n",
      "- Spring Boot 를 이용한 커머스 내부/외부 API 개발 운영\n",
      "- 커머스 주요 서비스 ( 상품, 주문, 결제, 프로모션, 물류 서비스 등 ) 기능 개발\n",
      "- RDBMS 및 Mongo DB 를 활용한 데이터 처리\n",
      "자격요건\n",
      "- 관련 경력 3년 이상\n",
      "- java 혹은 kotlin 언어의 기본 개념에 충실하신 분 \n",
      "- SpringBoot로 실무 업무 개발 혹은 개인 프로젝트 경험이 있으신 분\n",
      "- RDBMS 의 기본 적인 쿼리 사용이 가능하신 분\n",
      "- Git을 사용해 코드를 관리해본 경험이 있으신 분\n",
      "우대사항\n",
      "- Kotlin Base 의 Spring boot 개발 경험\n",
      "- 새로운 것에 대한 도전과 학습을 즐기시는 분\n",
      "- 능동적인 업무 처리를 하실 수 있는 분\n",
      "- ‘함께’ 일하는 것을 즐기고, 소통하기 좋아하시는 분 \n",
      "- 하고 싶은 일과 해야 하는 일을 구분할 줄 아시는 분\n",
      "혜택 및 복지\n",
      "- 2호선/신분당선 강남역 도보 30초 거리의 초역세권\n",
      "- 자유로운 연차/반차/반반차 사용\n",
      "- 자기개발 교육(강의, 세미나, 컨퍼런스, 스터디) 지원\n",
      "- 업무관련 도서지원\n",
      "- 최고의 사무공간과 고사양 장비 지급\n",
      "- 매월 MVP 선정해 상여금 지급\n",
      "- 청년내일채움공제/개인소득세혜택 지원\n",
      "- 직급체계 단순화로 호칭이 없는 수평적조직\n",
      "- 자율복장\n",
      "- 개인 경비 및 경조사비 지원\n",
      "- 팀장/파트장 별도 운영비 지급\n",
      "- 무제한 커피, 음료 및 간식 제공\n",
      "- 좋은 인재 추천하면 채용보상금 지급\n",
      "- 자사 커머스 쇼핑 할인권 지급\n",
      "\n"
     ]
    }
   ],
   "source": [
    "for s in content_2_json['props']['pageProps']['head']['86252']['jd'].split('\\n\\n'):\n",
    "  print(s)"
   ],
   "metadata": {
    "collapsed": false
   }
  },
  {
   "cell_type": "code",
   "execution_count": 1,
   "outputs": [],
   "source": [
    "from Parser import WantedParser\n",
    "test = None"
   ],
   "metadata": {
    "collapsed": false
   }
  },
  {
   "cell_type": "code",
   "execution_count": null,
   "outputs": [],
   "source": [
    "test = WantedParser.Parser(86252)\n",
    "for key, val in test.get_raw_data().items():\n",
    "  print(f'key : {key} \\nval : {val}')\n",
    "  print('-*-*'*20, '\\n')"
   ],
   "metadata": {
    "collapsed": false,
    "pycharm": {
     "is_executing": true
    }
   }
  }
 ],
 "metadata": {
  "kernelspec": {
   "display_name": "Python 3 (ipykernel)",
   "language": "python",
   "name": "python3"
  },
  "language_info": {
   "codemirror_mode": {
    "name": "ipython",
    "version": 3
   },
   "file_extension": ".py",
   "mimetype": "text/x-python",
   "name": "python",
   "nbconvert_exporter": "python",
   "pygments_lexer": "ipython3",
   "version": "3.11.0"
  }
 },
 "nbformat": 4,
 "nbformat_minor": 1
}
